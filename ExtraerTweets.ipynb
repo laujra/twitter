{
  "nbformat": 4,
  "nbformat_minor": 0,
  "metadata": {
    "colab": {
      "provenance": [],
      "collapsed_sections": [
        "pXy5_gEM4g0t"
      ]
    },
    "kernelspec": {
      "name": "python3",
      "display_name": "Python 3"
    },
    "language_info": {
      "name": "python"
    }
  },
  "cells": [
    {
      "cell_type": "markdown",
      "source": [
        "# Instalación e importación de librerias"
      ],
      "metadata": {
        "id": "7I2_XQr34b1s"
      }
    },
    {
      "cell_type": "code",
      "execution_count": 1,
      "metadata": {
        "id": "vSEtSEcYFkab",
        "colab": {
          "base_uri": "https://localhost:8080/"
        },
        "outputId": "23e8f7f2-d93f-443a-f31e-87e9355b807c"
      },
      "outputs": [
        {
          "output_type": "stream",
          "name": "stdout",
          "text": [
            "Looking in indexes: https://pypi.org/simple, https://us-python.pkg.dev/colab-wheels/public/simple/\n",
            "Requirement already satisfied: tweepy in /usr/local/lib/python3.7/dist-packages (3.10.0)\n",
            "Requirement already satisfied: requests[socks]>=2.11.1 in /usr/local/lib/python3.7/dist-packages (from tweepy) (2.23.0)\n",
            "Requirement already satisfied: requests-oauthlib>=0.7.0 in /usr/local/lib/python3.7/dist-packages (from tweepy) (1.3.1)\n",
            "Requirement already satisfied: six>=1.10.0 in /usr/local/lib/python3.7/dist-packages (from tweepy) (1.15.0)\n",
            "Requirement already satisfied: oauthlib>=3.0.0 in /usr/local/lib/python3.7/dist-packages (from requests-oauthlib>=0.7.0->tweepy) (3.2.1)\n",
            "Requirement already satisfied: urllib3!=1.25.0,!=1.25.1,<1.26,>=1.21.1 in /usr/local/lib/python3.7/dist-packages (from requests[socks]>=2.11.1->tweepy) (1.24.3)\n",
            "Requirement already satisfied: chardet<4,>=3.0.2 in /usr/local/lib/python3.7/dist-packages (from requests[socks]>=2.11.1->tweepy) (3.0.4)\n",
            "Requirement already satisfied: idna<3,>=2.5 in /usr/local/lib/python3.7/dist-packages (from requests[socks]>=2.11.1->tweepy) (2.10)\n",
            "Requirement already satisfied: certifi>=2017.4.17 in /usr/local/lib/python3.7/dist-packages (from requests[socks]>=2.11.1->tweepy) (2022.9.24)\n",
            "Requirement already satisfied: PySocks!=1.5.7,>=1.5.6 in /usr/local/lib/python3.7/dist-packages (from requests[socks]>=2.11.1->tweepy) (1.7.1)\n",
            "Looking in indexes: https://pypi.org/simple, https://us-python.pkg.dev/colab-wheels/public/simple/\n",
            "\u001b[31mERROR: Could not find a version that satisfies the requirement json (from versions: none)\u001b[0m\n",
            "\u001b[31mERROR: No matching distribution found for json\u001b[0m\n"
          ]
        }
      ],
      "source": [
        "!pip install tweepy\n",
        "!pip install json\n",
        "import tweepy\n",
        "import json\n",
        "import pandas as pd"
      ]
    },
    {
      "cell_type": "markdown",
      "source": [
        "# Conexión con la API\n",
        "## Credenciales"
      ],
      "metadata": {
        "id": "pXy5_gEM4g0t"
      }
    },
    {
      "cell_type": "code",
      "source": [
        "consumer_key = \"y015CmyVQ3HAOQ3a87JJ44rl6\"\n",
        "consumer_secret = \"IWkOfeFVZ8X7AodvOxEYenZWbkclgDRWnKQZ93ixNtGJDA6QjY\"\n",
        "access_token = \"1042870059180470273-aUWsseqzWbTpgNZ3aArFI0YCWqNOQ9\"\n",
        "access_token_secret = \"scbogXzs23ZDJJV6hcIffsF7389bVFKzIWqyAG0z0YDoS\""
      ],
      "metadata": {
        "id": "WrJzOzsc0kp2"
      },
      "execution_count": 2,
      "outputs": []
    },
    {
      "cell_type": "markdown",
      "source": [
        "# Autenticación"
      ],
      "metadata": {
        "id": "_QWJFJgl4pAF"
      }
    },
    {
      "cell_type": "code",
      "source": [
        "auth = tweepy.OAuthHandler(consumer_key, consumer_secret)\n",
        "auth.set_access_token(access_token, access_token_secret)\n",
        "api = tweepy.API(auth, wait_on_rate_limit=True)"
      ],
      "metadata": {
        "id": "eGibWj8s1T22"
      },
      "execution_count": 3,
      "outputs": []
    },
    {
      "cell_type": "markdown",
      "source": [
        "# Busqueda"
      ],
      "metadata": {
        "id": "epAVGa9f4wsH"
      }
    },
    {
      "cell_type": "markdown",
      "source": [
        "## Definir terminos a buscar"
      ],
      "metadata": {
        "id": "o-4B_lmc43AX"
      }
    },
    {
      "cell_type": "code",
      "source": [
        "query='@AlcaldiaDeCali OR @JorgeIvanOspina'  #Terminos\n",
        "num_tweets=1000 #Cantidad\n",
        "geo=\"3.4171,-76.51549,9km\" #Geolocalización"
      ],
      "metadata": {
        "id": "WQ9r_9jdasww"
      },
      "execution_count": 4,
      "outputs": []
    },
    {
      "cell_type": "code",
      "source": [
        "\n",
        "dic1=pd.DataFrame() #Dataframe que almacenará los tweets\n",
        "i=1\n",
        "ncat=200\n",
        "for tweet in tweepy.Cursor(api.search, q=query,\n",
        "lang=\"es\", geocode=geo, tweet_mode=\"extended\").items(num_tweets):\n",
        "  dic1=dic1.append(pd.json_normalize(tweet._json))\n",
        "  i=i+1\n",
        "  if i%ncat==0:\n",
        "    print(str(i)+\" tweets extraidos\")\n",
        "\n"
      ],
      "metadata": {
        "id": "bcQUyWOpLaUh",
        "colab": {
          "base_uri": "https://localhost:8080/"
        },
        "outputId": "e0c22c76-8706-4e68-b885-1fae21169375"
      },
      "execution_count": 5,
      "outputs": [
        {
          "output_type": "stream",
          "name": "stdout",
          "text": [
            "200 tweets extraidos\n",
            "400 tweets extraidos\n",
            "600 tweets extraidos\n",
            "800 tweets extraidos\n",
            "1000 tweets extraidos\n"
          ]
        }
      ]
    },
    {
      "cell_type": "code",
      "source": [
        "dic1.to_excel('tuits.xlsx') #Creación excel"
      ],
      "metadata": {
        "id": "8czH8K8xY0N2"
      },
      "execution_count": 6,
      "outputs": []
    },
    {
      "cell_type": "code",
      "source": [
        "# Iniciamos un array que va a contener los datos\n",
        "simple_list = []\n",
        "# Iniciamos el for con Cursor\n",
        "# Usamos algunos parámetros extra para excluir respuestas, retweets y traer el texto completo de cada tweet\n",
        "for status in tweepy.Cursor(api.user_timeline, screen_name = \"JorgeIvanOspina\",\n",
        "                            exclude_replies = True, include_rts = False,\n",
        "                            tweet_mode=\"extended\").items():\n",
        " # Agregamos el texto, fecha, likes, retweets y hashtags al array\n",
        "    simple_list.append([status.full_text, status.created_at, status.favorite_count,\n",
        "                        status.retweet_count, [h[\"text\"] for h in status.entities[\"hashtags\"]]])\n",
        "# Convertimos el array en un DataFrame y nombramos las columnas\n",
        "simple_list = pd.DataFrame(simple_list, columns=[\"Text\", \"Created at\", \"Likes\", \"Retweets\", \"Hashtags\"])\n",
        "# Guardamos en el directorio en que estamos trabajando\n",
        "simple_list.to_csv(\"testalcalde.csv\")"
      ],
      "metadata": {
        "id": "vAvwMdG3Ln5M"
      },
      "execution_count": 8,
      "outputs": []
    }
  ]
}